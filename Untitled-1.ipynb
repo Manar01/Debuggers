{
 "cells": [
  {
   "cell_type": "code",
   "execution_count": 1,
   "metadata": {},
   "outputs": [
    {
     "name": "stdout",
     "output_type": "stream",
     "text": [
      "Requirement already satisfied: fastapi in c:\\users\\manar\\appdata\\local\\programs\\python\\python313\\lib\\site-packages (0.115.11)\n",
      "Requirement already satisfied: uvicorn in c:\\users\\manar\\appdata\\local\\programs\\python\\python313\\lib\\site-packages (0.34.0)\n",
      "Requirement already satisfied: pydantic in c:\\users\\manar\\appdata\\local\\programs\\python\\python313\\lib\\site-packages (2.10.6)\n",
      "Requirement already satisfied: starlette<0.47.0,>=0.40.0 in c:\\users\\manar\\appdata\\local\\programs\\python\\python313\\lib\\site-packages (from fastapi) (0.46.1)\n",
      "Requirement already satisfied: typing-extensions>=4.8.0 in c:\\users\\manar\\appdata\\local\\programs\\python\\python313\\lib\\site-packages (from fastapi) (4.12.2)\n",
      "Requirement already satisfied: click>=7.0 in c:\\users\\manar\\appdata\\local\\programs\\python\\python313\\lib\\site-packages (from uvicorn) (8.1.8)\n",
      "Requirement already satisfied: h11>=0.8 in c:\\users\\manar\\appdata\\local\\programs\\python\\python313\\lib\\site-packages (from uvicorn) (0.14.0)\n",
      "Requirement already satisfied: annotated-types>=0.6.0 in c:\\users\\manar\\appdata\\local\\programs\\python\\python313\\lib\\site-packages (from pydantic) (0.7.0)\n",
      "Requirement already satisfied: pydantic-core==2.27.2 in c:\\users\\manar\\appdata\\local\\programs\\python\\python313\\lib\\site-packages (from pydantic) (2.27.2)\n",
      "Requirement already satisfied: colorama in c:\\users\\manar\\appdata\\local\\programs\\python\\python313\\lib\\site-packages (from click>=7.0->uvicorn) (0.4.6)\n",
      "Requirement already satisfied: anyio<5,>=3.6.2 in c:\\users\\manar\\appdata\\local\\programs\\python\\python313\\lib\\site-packages (from starlette<0.47.0,>=0.40.0->fastapi) (4.8.0)\n",
      "Requirement already satisfied: idna>=2.8 in c:\\users\\manar\\appdata\\local\\programs\\python\\python313\\lib\\site-packages (from anyio<5,>=3.6.2->starlette<0.47.0,>=0.40.0->fastapi) (3.10)\n",
      "Requirement already satisfied: sniffio>=1.1 in c:\\users\\manar\\appdata\\local\\programs\\python\\python313\\lib\\site-packages (from anyio<5,>=3.6.2->starlette<0.47.0,>=0.40.0->fastapi) (1.3.1)\n"
     ]
    }
   ],
   "source": [
    "! pip install fastapi uvicorn pydantic\n"
   ]
  }
 ],
 "metadata": {
  "kernelspec": {
   "display_name": "Python 3",
   "language": "python",
   "name": "python3"
  },
  "language_info": {
   "codemirror_mode": {
    "name": "ipython",
    "version": 3
   },
   "file_extension": ".py",
   "mimetype": "text/x-python",
   "name": "python",
   "nbconvert_exporter": "python",
   "pygments_lexer": "ipython3",
   "version": "3.13.2"
  }
 },
 "nbformat": 4,
 "nbformat_minor": 2
}
